{
 "cells": [
  {
   "cell_type": "markdown",
   "id": "grave-dancing",
   "metadata": {},
   "source": [
    "# Partie 2: Prédiction de l'émotion"
   ]
  },
  {
   "cell_type": "markdown",
   "id": "hawaiian-triangle",
   "metadata": {},
   "source": [
    "### Librairies"
   ]
  },
  {
   "cell_type": "code",
   "execution_count": 3,
   "id": "hollow-philadelphia",
   "metadata": {},
   "outputs": [],
   "source": [
    "from tensorflow.keras.models import load_model\n",
    "import matplotlib.pyplot as plt\n",
    "import cv2\n",
    "import numpy as np"
   ]
  },
  {
   "cell_type": "markdown",
   "id": "advised-schema",
   "metadata": {},
   "source": [
    "### Chargement du modèle"
   ]
  },
  {
   "cell_type": "code",
   "execution_count": 4,
   "id": "attached-blocking",
   "metadata": {},
   "outputs": [],
   "source": [
    "model = load_model('modelX1')"
   ]
  },
  {
   "cell_type": "markdown",
   "id": "composed-egyptian",
   "metadata": {},
   "source": [
    "### Stockage du classifier"
   ]
  },
  {
   "cell_type": "code",
   "execution_count": 11,
   "id": "intellectual-bangkok",
   "metadata": {},
   "outputs": [],
   "source": [
    "emot_clsfr=cv2.CascadeClassifier('haarcascade_frontalface_default.xml')"
   ]
  },
  {
   "cell_type": "markdown",
   "id": "gorgeous-george",
   "metadata": {},
   "source": [
    "### Stockage des labels"
   ]
  },
  {
   "cell_type": "code",
   "execution_count": 18,
   "id": "identical-tract",
   "metadata": {},
   "outputs": [],
   "source": [
    "labels = ['disgut', 'sad', 'surprise', 'neutral', 'happy', 'angry', 'fear']\n",
    "sentence = ['Berk', 'Why are you sad?', 'Oh gosh !!', 'Nothing', 'Because i\\'m happy!', 'Gnagnagna', 'Are you afraid?']"
   ]
  },
  {
   "cell_type": "markdown",
   "id": "brave-dressing",
   "metadata": {},
   "source": [
    "### Fonction de traitement de la vidéo"
   ]
  },
  {
   "cell_type": "code",
   "execution_count": 23,
   "id": "aggregate-broadcasting",
   "metadata": {},
   "outputs": [],
   "source": [
    "def process_frame(frame):\n",
    "    # détection du visage avec haarcascade\n",
    "    faces = emot_clsfr.detectMultiScale(frame, scaleFactor=1.1, minNeighbors=7)\n",
    "    # Si un visage est détecté, tente de prédire l'émotion\n",
    "    if len(faces) != 0:\n",
    "        for (x, y, w, h) in faces:\n",
    "            # Crop de l'image du visage détecté\n",
    "            image_predict = frame[y:y+h,x:x+w]\n",
    "            # traite l'image \n",
    "            image_predict = cv2.cvtColor(image_predict, cv2.COLOR_BGR2GRAY)\n",
    "            image_predict = cv2.resize(image_predict, (48, 48))\n",
    "            image_predict = image_predict.reshape(-1, 48, 48, 1).astype('float')/255.0\n",
    "            # prédit l'émotion\n",
    "            pred = model.predict_classes(image_predict)\n",
    "            print(pred)\n",
    "            # place un cadre autour du visage et y ajoute un texte donnant l'motion prédit \n",
    "            frame = cv2.rectangle(frame,(x,y),(x+w,y+h),(0,255,0),2) \n",
    "            frame = cv2.rectangle(frame, (x, y), (x+w, y - 20), (0,255,0), -1)\n",
    "            frame = cv2.putText(frame, labels[pred[0]], (x, y - 5), cv2.FONT_HERSHEY_SIMPLEX, 0.5, (0,0,0), 2)\n",
    "            frame = cv2.putText(frame, sentence[pred[0]], (x, y - 25), cv2.FONT_HERSHEY_SIMPLEX, 0.5, (0,0,0), 2)\n",
    "\n",
    "    return frame"
   ]
  },
  {
   "cell_type": "markdown",
   "id": "attended-prize",
   "metadata": {},
   "source": [
    "### Capture vidéo"
   ]
  },
  {
   "cell_type": "code",
   "execution_count": 26,
   "id": "understood-hello",
   "metadata": {},
   "outputs": [
    {
     "name": "stdout",
     "output_type": "stream",
     "text": [
      "[3]\n",
      "[3]\n",
      "[3]\n",
      "[3]\n",
      "[3]\n",
      "[3]\n",
      "[3]\n",
      "[3]\n",
      "[3]\n",
      "[3]\n",
      "[3]\n",
      "[3]\n",
      "[3]\n",
      "[3]\n",
      "[3]\n",
      "[3]\n",
      "[3]\n",
      "[3]\n",
      "[3]\n",
      "[3]\n",
      "[3]\n",
      "[3]\n",
      "[3]\n",
      "[3]\n",
      "[3]\n",
      "[3]\n",
      "[3]\n",
      "[3]\n",
      "[1]\n",
      "[1]\n",
      "[1]\n",
      "[1]\n",
      "[1]\n",
      "[1]\n",
      "[1]\n",
      "[1]\n",
      "[1]\n",
      "[1]\n",
      "[1]\n",
      "[1]\n",
      "[1]\n",
      "[1]\n",
      "[1]\n",
      "[3]\n",
      "[3]\n",
      "[3]\n",
      "[3]\n",
      "[3]\n",
      "[3]\n",
      "[3]\n",
      "[3]\n",
      "[3]\n",
      "[3]\n",
      "[3]\n",
      "[3]\n",
      "[3]\n",
      "[3]\n",
      "[3]\n",
      "[3]\n",
      "[1]\n",
      "[5]\n",
      "[5]\n",
      "[5]\n",
      "[1]\n",
      "[5]\n",
      "[5]\n",
      "[1]\n",
      "[5]\n",
      "[5]\n",
      "[1]\n",
      "[1]\n",
      "[1]\n",
      "[5]\n",
      "[1]\n",
      "[1]\n",
      "[1]\n",
      "[1]\n",
      "[1]\n",
      "[3]\n",
      "[3]\n",
      "[3]\n",
      "[5]\n",
      "[5]\n",
      "[1]\n",
      "[1]\n",
      "[1]\n",
      "[5]\n",
      "[5]\n",
      "[5]\n",
      "[5]\n",
      "[5]\n",
      "[1]\n",
      "[1]\n",
      "[1]\n",
      "[3]\n",
      "[1]\n",
      "[3]\n",
      "[3]\n",
      "[3]\n",
      "[3]\n",
      "[3]\n",
      "[3]\n",
      "[3]\n",
      "[3]\n",
      "[3]\n",
      "[3]\n",
      "[3]\n",
      "[3]\n",
      "[3]\n",
      "[3]\n",
      "[3]\n",
      "[3]\n",
      "[5]\n",
      "[3]\n",
      "[3]\n",
      "[3]\n",
      "[3]\n",
      "[1]\n",
      "[3]\n",
      "[1]\n",
      "[1]\n",
      "[1]\n",
      "[1]\n",
      "[1]\n",
      "[1]\n",
      "[1]\n",
      "[1]\n",
      "[1]\n",
      "[1]\n",
      "[1]\n",
      "[1]\n",
      "[1]\n",
      "[1]\n",
      "[1]\n",
      "[1]\n",
      "[1]\n",
      "[1]\n",
      "[1]\n",
      "[1]\n",
      "[1]\n",
      "[1]\n",
      "[1]\n",
      "[1]\n",
      "[1]\n",
      "[1]\n",
      "[1]\n",
      "[1]\n",
      "[1]\n",
      "[1]\n",
      "[1]\n",
      "[3]\n",
      "[3]\n",
      "[3]\n",
      "[3]\n",
      "[3]\n",
      "[3]\n",
      "[1]\n",
      "[3]\n",
      "[3]\n",
      "[3]\n",
      "[3]\n",
      "[3]\n",
      "[3]\n",
      "[1]\n",
      "[3]\n",
      "[3]\n",
      "[3]\n",
      "[3]\n"
     ]
    }
   ],
   "source": [
    "cam = cv2.VideoCapture(0)\n",
    "\n",
    "while True:\n",
    "    ret, frame = cam.read()\n",
    "    if ret == True:\n",
    "        # Process the image\n",
    "        image = process_frame(frame)  \n",
    "    cv2.imshow(\"test\", image)\n",
    "\n",
    "    k = cv2.waitKey(1)\n",
    "    if k%256 == 27:\n",
    "        break\n",
    "\n",
    "cam.release()\n",
    "cv2.destroyAllWindows()"
   ]
  },
  {
   "cell_type": "code",
   "execution_count": null,
   "id": "everyday-parking",
   "metadata": {},
   "outputs": [],
   "source": []
  }
 ],
 "metadata": {
  "kernelspec": {
   "display_name": "Python 3",
   "language": "python",
   "name": "python3"
  },
  "language_info": {
   "codemirror_mode": {
    "name": "ipython",
    "version": 3
   },
   "file_extension": ".py",
   "mimetype": "text/x-python",
   "name": "python",
   "nbconvert_exporter": "python",
   "pygments_lexer": "ipython3",
   "version": "3.8.5"
  }
 },
 "nbformat": 4,
 "nbformat_minor": 5
}
